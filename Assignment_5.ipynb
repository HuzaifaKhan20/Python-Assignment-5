{
  "cells": [
    {
      "cell_type": "markdown",
      "id": "170d9f80-0bdf-4d32-9736-93e86857cc87",
      "metadata": {
        "id": "170d9f80-0bdf-4d32-9736-93e86857cc87"
      },
      "source": [
        "1. Write a Python function called add_numbers that takes two numbers as arguments and returns their sum. Then, test the function by calling it with two numbers of your choice."
      ]
    },
    {
      "cell_type": "code",
      "source": [
        "def add_numbers(num1, num2):\n",
        "    return num1 + num2\n",
        "\n",
        "result = add_numbers(5, 7)\n",
        "print(result)"
      ],
      "metadata": {
        "colab": {
          "base_uri": "https://localhost:8080/"
        },
        "id": "WTMkGWIcyVxB",
        "outputId": "5048784a-135a-4e70-94d9-d9c2c8216342"
      },
      "id": "WTMkGWIcyVxB",
      "execution_count": 1,
      "outputs": [
        {
          "output_type": "stream",
          "name": "stdout",
          "text": [
            "12\n"
          ]
        }
      ]
    },
    {
      "cell_type": "markdown",
      "id": "7f9ede6d-db1d-4d2c-ac3c-c4e1a3653c30",
      "metadata": {
        "id": "7f9ede6d-db1d-4d2c-ac3c-c4e1a3653c30"
      },
      "source": [
        "2. Write a Python function count_vowels that accepts a string and returns the number of vowels (a, e, i, o, u) in that string.\n",
        "- Example: 'Orange'\n",
        "- Output: 3 vowels\n"
      ]
    },
    {
      "cell_type": "code",
      "source": [
        "def count_vowels(s):\n",
        "    vowels = 'aeiouAEIOU'\n",
        "    count = 0\n",
        "    for char in s:\n",
        "        if char in vowels:\n",
        "            count += 1\n",
        "    return count\n",
        "\n",
        "result = count_vowels('Orange')\n",
        "print(f'Output: {result} vowels')\n"
      ],
      "metadata": {
        "colab": {
          "base_uri": "https://localhost:8080/"
        },
        "id": "MZV18nlUylvN",
        "outputId": "b6e9e0dc-cac6-4d48-eeac-872cfc24784f"
      },
      "id": "MZV18nlUylvN",
      "execution_count": 3,
      "outputs": [
        {
          "output_type": "stream",
          "name": "stdout",
          "text": [
            "Output: 3 vowels\n"
          ]
        }
      ]
    },
    {
      "cell_type": "markdown",
      "id": "09ed52aa-b88e-4f30-a017-652d8de535cc",
      "metadata": {
        "id": "09ed52aa-b88e-4f30-a017-652d8de535cc"
      },
      "source": [
        "3. Create a Python function called currency_converter() that takes two arguments:\n",
        "\n",
        "- amount: The amount of money to be converted (in USD).\n",
        "- exchange_rate (default is 280): The conversion rate from USD to another currency (e.g., PKR). You can assume the default rate is 1 USD = 280 PKR.\n",
        "\n",
        "The function should return a message showing how much the given amount is worth in the target currency (PKR)."
      ]
    },
    {
      "cell_type": "code",
      "source": [
        "def currency_converter(amount, exchange_rate=280):\n",
        "    converted_amount = amount * exchange_rate\n",
        "    return f'{amount} USD is equal to {converted_amount} PKR at an exchange rate of {exchange_rate}'\n",
        "\n",
        "\n",
        "result = currency_converter(100)\n",
        "print(result)\n",
        "\n",
        "\n",
        "result_custom_rate = currency_converter(100, 300)\n",
        "print(result_custom_rate)\n"
      ],
      "metadata": {
        "colab": {
          "base_uri": "https://localhost:8080/"
        },
        "id": "eVygMGyJy33B",
        "outputId": "ab5299c4-deac-4550-a85d-0641170d81ed"
      },
      "id": "eVygMGyJy33B",
      "execution_count": 4,
      "outputs": [
        {
          "output_type": "stream",
          "name": "stdout",
          "text": [
            "100 USD is equal to 28000 PKR at an exchange rate of 280\n",
            "100 USD is equal to 30000 PKR at an exchange rate of 300\n"
          ]
        }
      ]
    },
    {
      "cell_type": "markdown",
      "id": "80ee5bc1-0c50-4341-9c04-12c9706e3e2d",
      "metadata": {
        "id": "80ee5bc1-0c50-4341-9c04-12c9706e3e2d"
      },
      "source": [
        "4. Write a Python function display_student_info that accepts the following details about a student:\n",
        "\n",
        "- name (Keyword argument): The name of the student.\n",
        "- age (Keyword argument): The age of the student.\n",
        "- grade (Keyword argument): The grade the student is in.\n",
        "- school (Keyword argument): The name of the school the student attends."
      ]
    },
    {
      "cell_type": "code",
      "source": [
        "def display_student_info(name, age, grade, school):\n",
        "    return f\"Student Name: {name}\\nAge: {age}\\nGrade: {grade}\\nSchool: {school}\"\n",
        "\n",
        "result = display_student_info(name=\"Huzaifa\", age=15, grade=\"10th\", school=\"KPS\")\n",
        "print(result)\n"
      ],
      "metadata": {
        "id": "fkkvHK8RzMdO"
      },
      "id": "fkkvHK8RzMdO",
      "execution_count": null,
      "outputs": []
    },
    {
      "cell_type": "markdown",
      "id": "0fe94f0f-cf3b-4122-8c18-204e74890214",
      "metadata": {
        "id": "0fe94f0f-cf3b-4122-8c18-204e74890214"
      },
      "source": [
        "5. Write a Python function calculate_price that accepts two positional arguments:\n",
        "\n",
        "- price: The price of a single item.\n",
        "- quantity: The number of items bought.\n",
        "- The function should return the total price by multiplying price and quantity."
      ]
    },
    {
      "cell_type": "code",
      "source": [
        "def calculate_price(price, quantity):\n",
        "    return price * quantity\n",
        "\n",
        "total = calculate_price(10, 5)\n",
        "print(total)\n"
      ],
      "metadata": {
        "colab": {
          "base_uri": "https://localhost:8080/"
        },
        "id": "pBg8O_fPzfGb",
        "outputId": "881c9ef5-d930-4450-c98e-e5ce334d8c22"
      },
      "id": "pBg8O_fPzfGb",
      "execution_count": 7,
      "outputs": [
        {
          "output_type": "stream",
          "name": "stdout",
          "text": [
            "50\n"
          ]
        }
      ]
    },
    {
      "cell_type": "markdown",
      "id": "f296207b-8c2c-4fed-a439-55c62a4fad48",
      "metadata": {
        "id": "f296207b-8c2c-4fed-a439-55c62a4fad48"
      },
      "source": [
        "6. Write a Python function display_prices that takes a product name and an arbitrary number of keyword arguments representing product prices. The function should display each product and its price.\n",
        "\n",
        "- Product: Laptop\n",
        "- Amazon: $800\n",
        "\n",
        "- eBay: $750\n",
        "  \n",
        "- Walmart: $780\n"
      ]
    },
    {
      "cell_type": "code",
      "source": [
        "def display_prices(product, **prices):\n",
        "    print(f\"Product: {product}\")\n",
        "    for store, price in prices.items():\n",
        "        print(f\"{store}: ${price}\")\n",
        "\n",
        "display_prices(\"Laptop\", Amazon=800, eBay=750, Walmart=780)\n"
      ],
      "metadata": {
        "id": "vEblPM6s0q3o",
        "outputId": "b037712c-9008-4c73-883e-7d8375b5051f",
        "colab": {
          "base_uri": "https://localhost:8080/"
        }
      },
      "id": "vEblPM6s0q3o",
      "execution_count": 8,
      "outputs": [
        {
          "output_type": "stream",
          "name": "stdout",
          "text": [
            "Product: Laptop\n",
            "Amazon: $800\n",
            "eBay: $750\n",
            "Walmart: $780\n"
          ]
        }
      ]
    },
    {
      "cell_type": "markdown",
      "id": "5f1c1d64-058b-4ace-ab15-ac1debdce1a0",
      "metadata": {
        "id": "5f1c1d64-058b-4ace-ab15-ac1debdce1a0"
      },
      "source": [
        "7. Write a Python function find_max that takes any number of numerical arguments and returns the maximum number."
      ]
    },
    {
      "cell_type": "code",
      "source": [
        "def find_max(*args):\n",
        "    return max(args)\n",
        "maximum = find_max(10, 25, 8, 42, 15)\n",
        "print(maximum)  # Output: 42\n"
      ],
      "metadata": {
        "id": "3NI5UKHI1Ckn",
        "outputId": "8b9291df-9fb3-4d26-fba2-bb6ddf2d240c",
        "colab": {
          "base_uri": "https://localhost:8080/"
        }
      },
      "id": "3NI5UKHI1Ckn",
      "execution_count": 9,
      "outputs": [
        {
          "output_type": "stream",
          "name": "stdout",
          "text": [
            "42\n"
          ]
        }
      ]
    },
    {
      "cell_type": "markdown",
      "id": "133f4fd5-0f8d-4595-88c2-0cd7371c775b",
      "metadata": {
        "id": "133f4fd5-0f8d-4595-88c2-0cd7371c775b"
      },
      "source": [
        "8. Write a Python function display_info that takes:\n",
        "\n",
        "- Positional arguments for the name and age of a person.\n",
        "- Keyword arguments for other personal details like address, phone number, and email.\n",
        "\n",
        "Example Output:\n",
        "\n",
        "- Name: Alice\n",
        "- Age: 30\n",
        "- Other Details:\n",
        "    - address: 123 Main St\n",
        "    - phone: 123-456-7890\n",
        "    - email: alice@example.com\n"
      ]
    },
    {
      "cell_type": "code",
      "source": [
        "def display_info(name, age, **details):\n",
        "    print(f\"Name: {name}\")\n",
        "    print(f\"Age: {age}\")\n",
        "    print(\"Other Details:\")\n",
        "    for key, value in details.items():\n",
        "        print(f\"{key}: {value}\")\n",
        "display_info(\"Alice\", 30, address=\"123 Main St\", phone=\"123-456-7890\", email=\"alice@example.com\")\n"
      ],
      "metadata": {
        "id": "l42EfIz41NlD",
        "outputId": "1fa7b6c6-c7fc-4c02-9a9b-ae8dac55ff2a",
        "colab": {
          "base_uri": "https://localhost:8080/"
        }
      },
      "id": "l42EfIz41NlD",
      "execution_count": 10,
      "outputs": [
        {
          "output_type": "stream",
          "name": "stdout",
          "text": [
            "Name: Alice\n",
            "Age: 30\n",
            "Other Details:\n",
            "address: 123 Main St\n",
            "phone: 123-456-7890\n",
            "email: alice@example.com\n"
          ]
        }
      ]
    },
    {
      "cell_type": "markdown",
      "id": "ba32f7dd-8038-4e6d-a785-0244a500313c",
      "metadata": {
        "id": "ba32f7dd-8038-4e6d-a785-0244a500313c"
      },
      "source": [
        "9. Write a Python function calculate_rectangle that accepts the length and width of a rectangle as arguments. Inside this function, create two nested functions:\n",
        "\n",
        "- calculate_area: This function should calculate the area of the rectangle.\n",
        "- calculate_perimeter: This function should calculate the perimeter of the rectangle.\n",
        "- The main function should return both the area and the perimeter of the rectangle."
      ]
    },
    {
      "cell_type": "code",
      "source": [
        "def calculate_rectangle(length, width):\n",
        "    def calculate_area():\n",
        "        return length * width\n",
        "\n",
        "    def calculate_perimeter():\n",
        "        return 2 * (length + width)\n",
        "\n",
        "    area = calculate_area()\n",
        "    perimeter = calculate_perimeter()\n",
        "    return area, perimeter\n",
        "\n",
        "area, perimeter = calculate_rectangle(5, 3)\n",
        "print(f\"Area: {area}\")\n",
        "print(f\"Perimeter: {perimeter}\")\n"
      ],
      "metadata": {
        "id": "w-U6lNVF1X2D",
        "outputId": "2f749b5a-1525-47f7-a93a-68362515aa8d",
        "colab": {
          "base_uri": "https://localhost:8080/"
        }
      },
      "id": "w-U6lNVF1X2D",
      "execution_count": 12,
      "outputs": [
        {
          "output_type": "stream",
          "name": "stdout",
          "text": [
            "Area: 15\n",
            "Perimeter: 16\n"
          ]
        }
      ]
    },
    {
      "cell_type": "markdown",
      "id": "ff60a2fd-df19-4d11-ae27-27443c000e5a",
      "metadata": {
        "id": "ff60a2fd-df19-4d11-ae27-27443c000e5a"
      },
      "source": [
        "Q 10.\n",
        "\n",
        "products = [\n",
        "    {\"name\": \"Laptop\", \"price\": 1200, \"in_stock\": True, \"discount\": 0.1},\n",
        "    {\"name\": \"Smartphone\", \"price\": 800, \"in_stock\": False, \"discount\": 0.05},\n",
        "    {\"name\": \"Headphones\", \"price\": 150, \"in_stock\": True, \"discount\": 0.2},\n",
        "    {\"name\": \"Smartwatch\", \"price\": 300, \"in_stock\": True, \"discount\": 0},\n",
        "    {\"name\": \"Keyboard\", \"price\": 100, \"in_stock\": True, \"discount\": 0.15}\n",
        "]\n",
        "\n",
        "- Get names of in-stock products:\n",
        "\n",
        "  *Use list comprehension to generate a list of names for the products that are in stock.\n",
        "                                            \n",
        "- Calculate final prices for in-stock products after discount:\n",
        "\n",
        "    *For products that have a discount, calculate the final price by applying the discount.\n",
        "\n",
        "  \n",
        "    *For products with no discount, keep the original price.\n",
        "                                            \n",
        "- Generate a list of tuples with the product name and its final price.\n",
        "\n",
        "Example Output:\n",
        "\n",
        "- In-stock product names: ['Laptop', 'Headphones', 'Smartwatch', 'Keyboard']\n",
        "- Discounted prices: [('Laptop', 1080.0), ('Headphones', 120.0), ('Smartwatch', 300), ('Keyboard', 85.0)]\n"
      ]
    },
    {
      "cell_type": "code",
      "execution_count": 13,
      "id": "258c9536-f80f-479a-a01d-92936f9d3a3f",
      "metadata": {
        "colab": {
          "base_uri": "https://localhost:8080/"
        },
        "id": "258c9536-f80f-479a-a01d-92936f9d3a3f",
        "outputId": "604f47b7-8359-4316-d51f-6821bb150d20"
      },
      "outputs": [
        {
          "output_type": "stream",
          "name": "stdout",
          "text": [
            "In-stock product names: ['Laptop', 'Headphones', 'Smartwatch', 'Keyboard']\n",
            "Discounted prices: [('Laptop', 1080.0), ('Headphones', 120.0), ('Smartwatch', 300), ('Keyboard', 85.0)]\n"
          ]
        }
      ],
      "source": [
        "products = [\n",
        "    {\"name\": \"Laptop\", \"price\": 1200, \"in_stock\": True, \"discount\": 0.1},\n",
        "    {\"name\": \"Smartphone\", \"price\": 800, \"in_stock\": False, \"discount\": 0.05},\n",
        "    {\"name\": \"Headphones\", \"price\": 150, \"in_stock\": True, \"discount\": 0.2},\n",
        "    {\"name\": \"Smartwatch\", \"price\": 300, \"in_stock\": True, \"discount\": 0},\n",
        "    {\"name\": \"Keyboard\", \"price\": 100, \"in_stock\": True, \"discount\": 0.15}\n",
        "]\n",
        "\n",
        "in_stock_names = [product[\"name\"] for product in products if product[\"in_stock\"]]\n",
        "\n",
        "discounted_prices = [\n",
        "    (product[\"name\"], product[\"price\"] * (1 - product[\"discount\"]) if product[\"discount\"] > 0 else product[\"price\"])\n",
        "    for product in products if product[\"in_stock\"]\n",
        "]\n",
        "\n",
        "print(\"In-stock product names:\", in_stock_names)\n",
        "print(\"Discounted prices:\", discounted_prices)\n",
        "\n"
      ]
    },
    {
      "cell_type": "code",
      "source": [],
      "metadata": {
        "id": "YqLHoiN71-Fw"
      },
      "id": "YqLHoiN71-Fw",
      "execution_count": null,
      "outputs": []
    }
  ],
  "metadata": {
    "kernelspec": {
      "display_name": "Python 3 (ipykernel)",
      "language": "python",
      "name": "python3"
    },
    "language_info": {
      "codemirror_mode": {
        "name": "ipython",
        "version": 3
      },
      "file_extension": ".py",
      "mimetype": "text/x-python",
      "name": "python",
      "nbconvert_exporter": "python",
      "pygments_lexer": "ipython3",
      "version": "3.12.7"
    },
    "colab": {
      "provenance": []
    }
  },
  "nbformat": 4,
  "nbformat_minor": 5
}